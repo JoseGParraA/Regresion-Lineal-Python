{
 "cells": [
  {
   "cell_type": "markdown",
   "metadata": {},
   "source": [
    "# Ejercicio Canavos Página 448\n",
    "\n",
    "El objetivo del ejercicio es ajustar un modelo de regresión lineal que nos permita estimar el Salario Inicial de los estudiantes universitarios como una función de la calificación promedio."
   ]
  },
  {
   "cell_type": "code",
   "execution_count": 1,
   "metadata": {},
   "outputs": [],
   "source": [
    "# Tratamiento de datos\n",
    "\n",
    "import pandas as pd\n",
    "import numpy as np\n",
    "\n",
    "# Gráficos\n",
    "\n",
    "import matplotlib.pyplot as plt\n",
    "import seaborn as sns\n",
    "\n",
    "# Preprocesado y modelado\n",
    "\n",
    "from scipy.stats import pearsonr\n",
    "import statsmodels.api as sm\n",
    "from scipy import stats\n",
    "from sklearn.model_selection import train_test_split\n",
    "from sklearn.linear_model import LinearRegression\n",
    "from sklearn.metrics import mean_squared_error, r2_score\n",
    "import statsmodels.api as sm\n",
    "import statsmodels.formula.api as smf\n",
    "\n",
    "# Configuración warnings\n",
    "\n",
    "import warnings\n",
    "warnings.filterwarnings('ignore')"
   ]
  },
  {
   "cell_type": "code",
   "execution_count": 2,
   "metadata": {},
   "outputs": [
    {
     "data": {
      "text/html": [
       "<div>\n",
       "<style scoped>\n",
       "    .dataframe tbody tr th:only-of-type {\n",
       "        vertical-align: middle;\n",
       "    }\n",
       "\n",
       "    .dataframe tbody tr th {\n",
       "        vertical-align: top;\n",
       "    }\n",
       "\n",
       "    .dataframe thead th {\n",
       "        text-align: right;\n",
       "    }\n",
       "</style>\n",
       "<table border=\"1\" class=\"dataframe\">\n",
       "  <thead>\n",
       "    <tr style=\"text-align: right;\">\n",
       "      <th></th>\n",
       "      <th>CALIFICACIÓN PROMEDIO</th>\n",
       "      <th>SALARIO INICIAL</th>\n",
       "    </tr>\n",
       "  </thead>\n",
       "  <tbody>\n",
       "    <tr>\n",
       "      <th>0</th>\n",
       "      <td>2.95</td>\n",
       "      <td>18.5</td>\n",
       "    </tr>\n",
       "    <tr>\n",
       "      <th>1</th>\n",
       "      <td>3.20</td>\n",
       "      <td>20.0</td>\n",
       "    </tr>\n",
       "    <tr>\n",
       "      <th>2</th>\n",
       "      <td>3.40</td>\n",
       "      <td>21.1</td>\n",
       "    </tr>\n",
       "    <tr>\n",
       "      <th>3</th>\n",
       "      <td>3.60</td>\n",
       "      <td>22.4</td>\n",
       "    </tr>\n",
       "    <tr>\n",
       "      <th>4</th>\n",
       "      <td>3.20</td>\n",
       "      <td>21.2</td>\n",
       "    </tr>\n",
       "  </tbody>\n",
       "</table>\n",
       "</div>"
      ],
      "text/plain": [
       "   CALIFICACIÓN PROMEDIO  SALARIO INICIAL\n",
       "0                   2.95             18.5\n",
       "1                   3.20             20.0\n",
       "2                   3.40             21.1\n",
       "3                   3.60             22.4\n",
       "4                   3.20             21.2"
      ]
     },
     "execution_count": 2,
     "metadata": {},
     "output_type": "execute_result"
    }
   ],
   "source": [
    "# Importar los datos\n",
    "\n",
    "data = pd.read_csv('./../dataset/ejemplo.csv')\n",
    "data.head(5)"
   ]
  },
  {
   "cell_type": "code",
   "execution_count": 3,
   "metadata": {},
   "outputs": [
    {
     "data": {
      "image/png": "[encoded data removed]",
      "text/plain": [
       "<Figure size 360x360 with 1 Axes>"
      ]
     },
     "metadata": {
      "needs_background": "light"
     },
     "output_type": "display_data"
    }
   ],
   "source": [
    "# Gráfico de dispersión\n",
    "\n",
    "x = data['CALIFICACIÓN PROMEDIO']\n",
    "Y = data['SALARIO INICIAL']\n",
    "plt.figure(figsize=(5,5))\n",
    "plt.scatter(x, Y, marker='o', label='data')\n",
    "plt.xlabel('CALIFICACIÓN PROMEDIO')\n",
    "plt.ylabel('SALARIO INICIAL')\n",
    "plt.title('CALIFICACIÓN PROMEDIO vs SALARIO INICIAL')\n",
    "plt.legend(loc='lower right')\n",
    "plt.show()\n"
   ]
  },
  {
   "cell_type": "code",
   "execution_count": 4,
   "metadata": {},
   "outputs": [
    {
     "name": "stdout",
     "output_type": "stream",
     "text": [
      "Coeficiente de Correlación de Pearson: 0.8476342100087885\n",
      "P-value: 6.59819025231516e-05\n"
     ]
    }
   ],
   "source": [
    "# Correlación lineal entre las dos variables\n",
    "\n",
    "prueba_correlacion = pearsonr(x, Y)\n",
    "print('Coeficiente de Correlación de Pearson: ' + str(prueba_correlacion[0]))\n",
    "print('P-value: ' + str(prueba_correlacion[1]))"
   ]
  },
  {
   "cell_type": "markdown",
   "metadata": {},
   "source": [
    "Debido al gráfico de dispersión (aunque muestra cierta dispersión), al valor del coeficiente de Pearson (r=0.85) y a la prueba de correlación significativa (P-value=0.00006598), se muestra una asociación lineal entre la calificación promedio (x) y el salario inicial (Y); por lo que se ajustará un modelo de regresión lineal simple con el objetivo de predecir el salario inicial de un estudiante en función de su calificación promedio."
   ]
  },
  {
   "cell_type": "markdown",
   "metadata": {},
   "source": [
    "**ANÁLISIS EXPLORATORIO DE LOS DATOS**"
   ]
  },
  {
   "cell_type": "code",
   "execution_count": 5,
   "metadata": {},
   "outputs": [
    {
     "data": {
      "text/plain": [
       "Index(['CALIFICACIÓN PROMEDIO', 'SALARIO INICIAL'], dtype='object')"
      ]
     },
     "execution_count": 5,
     "metadata": {},
     "output_type": "execute_result"
    }
   ],
   "source": [
    "# Nombre de las columnas\n",
    "\n",
    "data.columns"
   ]
  },
  {
   "cell_type": "code",
   "execution_count": 6,
   "metadata": {},
   "outputs": [
    {
     "data": {
      "text/plain": [
       "(15, 2)"
      ]
     },
     "execution_count": 6,
     "metadata": {},
     "output_type": "execute_result"
    }
   ],
   "source": [
    "# Dimensión de los datos\n",
    "\n",
    "data.shape"
   ]
  },
  {
   "cell_type": "code",
   "execution_count": 7,
   "metadata": {},
   "outputs": [
    {
     "name": "stdout",
     "output_type": "stream",
     "text": [
      "<class 'pandas.core.frame.DataFrame'>\n",
      "RangeIndex: 15 entries, 0 to 14\n",
      "Data columns (total 2 columns):\n",
      " #   Column                 Non-Null Count  Dtype  \n",
      "---  ------                 --------------  -----  \n",
      " 0   CALIFICACIÓN PROMEDIO  15 non-null     float64\n",
      " 1   SALARIO INICIAL        15 non-null     float64\n",
      "dtypes: float64(2)\n",
      "memory usage: 368.0 bytes\n"
     ]
    }
   ],
   "source": [
    "data.info()"
   ]
  },
  {
   "cell_type": "code",
   "execution_count": 8,
   "metadata": {},
   "outputs": [
    {
     "data": {
      "text/html": [
       "<div>\n",
       "<style scoped>\n",
       "    .dataframe tbody tr th:only-of-type {\n",
       "        vertical-align: middle;\n",
       "    }\n",
       "\n",
       "    .dataframe tbody tr th {\n",
       "        vertical-align: top;\n",
       "    }\n",
       "\n",
       "    .dataframe thead th {\n",
       "        text-align: right;\n",
       "    }\n",
       "</style>\n",
       "<table border=\"1\" class=\"dataframe\">\n",
       "  <thead>\n",
       "    <tr style=\"text-align: right;\">\n",
       "      <th></th>\n",
       "      <th>CALIFICACIÓN PROMEDIO</th>\n",
       "      <th>SALARIO INICIAL</th>\n",
       "    </tr>\n",
       "  </thead>\n",
       "  <tbody>\n",
       "    <tr>\n",
       "      <th>count</th>\n",
       "      <td>15.000000</td>\n",
       "      <td>15.000000</td>\n",
       "    </tr>\n",
       "    <tr>\n",
       "      <th>mean</th>\n",
       "      <td>3.040000</td>\n",
       "      <td>18.053333</td>\n",
       "    </tr>\n",
       "    <tr>\n",
       "      <th>std</th>\n",
       "      <td>0.251567</td>\n",
       "      <td>2.409465</td>\n",
       "    </tr>\n",
       "    <tr>\n",
       "      <th>min</th>\n",
       "      <td>2.700000</td>\n",
       "      <td>14.400000</td>\n",
       "    </tr>\n",
       "    <tr>\n",
       "      <th>25%</th>\n",
       "      <td>2.850000</td>\n",
       "      <td>16.250000</td>\n",
       "    </tr>\n",
       "    <tr>\n",
       "      <th>50%</th>\n",
       "      <td>3.050000</td>\n",
       "      <td>18.000000</td>\n",
       "    </tr>\n",
       "    <tr>\n",
       "      <th>75%</th>\n",
       "      <td>3.175000</td>\n",
       "      <td>19.500000</td>\n",
       "    </tr>\n",
       "    <tr>\n",
       "      <th>max</th>\n",
       "      <td>3.600000</td>\n",
       "      <td>22.400000</td>\n",
       "    </tr>\n",
       "  </tbody>\n",
       "</table>\n",
       "</div>"
      ],
      "text/plain": [
       "       CALIFICACIÓN PROMEDIO  SALARIO INICIAL\n",
       "count              15.000000        15.000000\n",
       "mean                3.040000        18.053333\n",
       "std                 0.251567         2.409465\n",
       "min                 2.700000        14.400000\n",
       "25%                 2.850000        16.250000\n",
       "50%                 3.050000        18.000000\n",
       "75%                 3.175000        19.500000\n",
       "max                 3.600000        22.400000"
      ]
     },
     "execution_count": 8,
     "metadata": {},
     "output_type": "execute_result"
    }
   ],
   "source": [
    "# Estadísticos descriptivos\n",
    "\n",
    "data.describe()"
   ]
  },
  {
   "cell_type": "markdown",
   "metadata": {},
   "source": [
    "# Estudio de la distribución de la variable respuesta Y: Salario Inicial\n",
    "\n",
    "**1. Gráfico**"
   ]
  },
  {
   "cell_type": "code",
   "execution_count": 9,
   "metadata": {},
   "outputs": [
    {
     "data": {
      "image/png": "[encoded data removed]",
      "text/plain": [
       "<Figure size 1152x432 with 2 Axes>"
      ]
     },
     "metadata": {
      "needs_background": "light"
     },
     "output_type": "display_data"
    }
   ],
   "source": [
    "fig, axes = plt.subplots(nrows=1, ncols=2, figsize=(16,6))\n",
    "Y =  data['SALARIO INICIAL']\n",
    "sns.distplot(\n",
    "    Y,\n",
    "    hist    = False,\n",
    "    kde = True,\n",
    "    color   = \"blue\",\n",
    "    ax = axes[0]\n",
    ")\n",
    "axes[0].set_title(\"Distribución Original (Y)\", fontweight = \"bold\")\n",
    "axes[0].set_xlabel('Salario Inicial', fontsize='small')\n",
    "axes[0].set_ylabel('Densidad de probabilidad', fontsize='small')\n",
    "axes[0].tick_params(labelsize = 7)\n",
    "\n",
    "\n",
    "# Gráfico Q-Q\n",
    "\n",
    "sm.qqplot(\n",
    "    Y,\n",
    "    fit   = True,\n",
    "    line  = 'q',\n",
    "    alpha = 0.4,\n",
    "    lw    = 2,\n",
    "    ax    = axes[1]\n",
    ")\n",
    "axes[1].set_title('Gráfico Q-Q del Salario Inicial', fontsize = 10,\n",
    "             fontweight = \"bold\")\n",
    "axes[1].set_xlabel('Salario Inicial', fontsize='small')\n",
    "axes[1].tick_params(labelsize = 7)"
   ]
  },
  {
   "cell_type": "markdown",
   "metadata": {},
   "source": [
    "**2. Métodos analíticos asimetría y curtosis**"
   ]
  },
  {
   "cell_type": "code",
   "execution_count": 10,
   "metadata": {},
   "outputs": [
    {
     "name": "stdout",
     "output_type": "stream",
     "text": [
      "Coeficiente de Curtosis: -0.9599587595583778\n",
      "Coeficiente de Asimetría: 0.21233887921489958\n"
     ]
    }
   ],
   "source": [
    "print('Coeficiente de Curtosis:', stats.kurtosis(Y))\n",
    "print('Coeficiente de Asimetría:', stats.skew(Y))"
   ]
  },
  {
   "cell_type": "markdown",
   "metadata": {},
   "source": [
    "**3. Contraste de hipótesis**\n",
    "\n",
    "\n",
    "$H_0 =$ La distribución de los datos se ajusta a una distribución normal y $H_1 =$ La distribución de los datos NO se ajusta a una distribución normal.\n",
    "\n",
    "Si el nivel de significancia es $\\alpha=0.05$ ..."
   ]
  },
  {
   "cell_type": "code",
   "execution_count": 11,
   "metadata": {},
   "outputs": [
    {
     "data": {
      "text/plain": [
       "ShapiroResult(statistic=0.9678089022636414, pvalue=0.824384868144989)"
      ]
     },
     "execution_count": 11,
     "metadata": {},
     "output_type": "execute_result"
    }
   ],
   "source": [
    "# Test Shapiro-Wilk\n",
    "\n",
    "shapiro_test = stats.shapiro(Y)\n",
    "shapiro_test"
   ]
  },
  {
   "cell_type": "code",
   "execution_count": 12,
   "metadata": {},
   "outputs": [
    {
     "name": "stdout",
     "output_type": "stream",
     "text": [
      "Estadístico = 0.7799178015701234, p-value = 0.6770847015760069\n"
     ]
    }
   ],
   "source": [
    "# Test D'Agostino's K-squared\n",
    "\n",
    "k2, p_value = stats.normaltest(Y)\n",
    "print(f\"Estadístico = {k2}, p-value = {p_value}\")"
   ]
  },
  {
   "cell_type": "markdown",
   "metadata": {},
   "source": [
    "En ambos test el p-value > $\\alpha$... indicando que no existe evidencia suficiente para rechazar la hipótesis nula $H_0$. El p-value no es significativo.\n",
    "\n",
    "La evidencia muestral no es suficiente para rechazar la hipótesis de que la variable de respuesta (Salario Inicial) se ajusta a una distribución normal.\n",
    "\n",
    "No poder rechazar la hipótesis nula trae consigo que los estimadores de mínimos cuadrados de $\\beta_0$ y $\\beta_1$ (iguales a los estimadores de Máxima Verosimilitud-suponiendo normalidad de los errores aleatorios) tengan las propiedades deseables de consistencia, suficiencia y de varianza mínima; además, nos permiten desarrollar criterios inferenciales para $\\beta_0$ y $\\beta_1$."
   ]
  },
  {
   "cell_type": "markdown",
   "metadata": {},
   "source": [
    "# AJUSTE DEL MODELO DE REGRESIÓN LINEAL SIMPLE"
   ]
  },
  {
   "cell_type": "markdown",
   "metadata": {},
   "source": [
    "**1. Sklearn**"
   ]
  },
  {
   "cell_type": "code",
   "execution_count": 13,
   "metadata": {},
   "outputs": [],
   "source": [
    "# División de los datos en train y test\n",
    "# ==============================================================================\n",
    "\n",
    "X_entrenamiento, X_prueba, y_entrenamiento, y_prueba = train_test_split(\n",
    "                                        x.values.reshape(-1,1),\n",
    "                                        Y.values.reshape(-1,1),\n",
    "                                        train_size   = 0.8,\n",
    "                                        random_state = 1234,\n",
    "                                        shuffle      = True\n",
    "                                    )"
   ]
  },
  {
   "cell_type": "code",
   "execution_count": 14,
   "metadata": {},
   "outputs": [
    {
     "data": {
      "text/plain": [
       "LinearRegression()"
      ]
     },
     "execution_count": 14,
     "metadata": {},
     "output_type": "execute_result"
    }
   ],
   "source": [
    "# Creación del modelo (Entrenamiento)\n",
    "# ==============================================================================\n",
    "modelo_lineal_simple = LinearRegression()\n",
    "modelo_lineal_simple.fit(X = X_entrenamiento, y = y_entrenamiento)"
   ]
  },
  {
   "cell_type": "code",
   "execution_count": 15,
   "metadata": {},
   "outputs": [
    {
     "name": "stdout",
     "output_type": "stream",
     "text": [
      "\n",
      "Intercepto: [-7.21131985]\n",
      "Coeficiente: [8.31791908]\n",
      "Coeficiente de determinación R^2: 0.752900429773425\n"
     ]
    }
   ],
   "source": [
    "# Información del modelo\n",
    "# ==============================================================================\n",
    "intercepto = modelo_lineal_simple.intercept_\n",
    "coeficiente = modelo_lineal_simple.coef_.flatten()\n",
    "print(\"\")\n",
    "print(f\"Intercepto:\", intercepto)\n",
    "print(\"Coeficiente:\", coeficiente)\n",
    "print(\"Coeficiente de determinación R^2:\", modelo_lineal_simple.score(X_entrenamiento, y_entrenamiento))"
   ]
  },
  {
   "cell_type": "markdown",
   "metadata": {},
   "source": [
    "La ecuación estimada de regresión es:\n",
    "\n",
    "$$\n",
    "\\hat{y} = -7.21 + 8.31 x\n",
    "$$\n",
    "\n",
    "El valor de $R^2= 0.7529$, significa que el $75.29\\%$ de la variabilidad total en los salarios iniciales (Y) es explicada por la presencia lineal de la calificación promedio (x) en el modelo de regresión."
   ]
  },
  {
   "cell_type": "code",
   "execution_count": 16,
   "metadata": {},
   "outputs": [
    {
     "name": "stdout",
     "output_type": "stream",
     "text": [
      "\n",
      "El error (RMSE) de test es: 1.2793793717072979\n"
     ]
    }
   ],
   "source": [
    "# Error del modelo estimado\n",
    "\n",
    "predicciones_entrenamiento = modelo_lineal_simple.predict(X = X_entrenamiento)\n",
    "\n",
    "rmse = mean_squared_error(\n",
    "        y_true  = y_entrenamiento,\n",
    "        y_pred  = predicciones_entrenamiento,\n",
    "        squared = False\n",
    "       )\n",
    "print(\"\")\n",
    "print(f\"El error (RMSE) de test es: {rmse}\")"
   ]
  },
  {
   "cell_type": "code",
   "execution_count": 17,
   "metadata": {},
   "outputs": [
    {
     "data": {
      "image/png": "[encoded data removed]",
      "text/plain": [
       "<Figure size 720x576 with 1 Axes>"
      ]
     },
     "metadata": {
      "needs_background": "light"
     },
     "output_type": "display_data"
    }
   ],
   "source": [
    "def recta_estimada(x):\n",
    "    return intercepto + coeficiente * x\n",
    "\n",
    "modelo_estimado = list(map(recta_estimada,X_entrenamiento))\n",
    "plt.figure(figsize=(10,8))\n",
    "plt.plot(X_entrenamiento, modelo_estimado, color='green')\n",
    "plt.scatter(X_entrenamiento, y_entrenamiento)\n",
    "plt.scatter(X_prueba, y_prueba)\n",
    "plt.legend(['Modelo Estimado','Datos de entrenamiento','Datos de prueba'])\n",
    "plt.xlabel(\"Calificación promedio (x)\")\n",
    "plt.ylabel(\"Salario Inicial (Y)\")\n",
    "plt.show()"
   ]
  },
  {
   "cell_type": "code",
   "execution_count": 18,
   "metadata": {},
   "outputs": [
    {
     "name": "stdout",
     "output_type": "stream",
     "text": [
      "\n",
      "El error (RMSE) de test es: 1.0458686806135336\n"
     ]
    }
   ],
   "source": [
    "# # Error de test del modelo \n",
    "\n",
    "predicciones_prueba = modelo_lineal_simple.predict(X = X_prueba)\n",
    "\n",
    "rmse = mean_squared_error(\n",
    "        y_true  = y_prueba,\n",
    "        y_pred  = predicciones_prueba,\n",
    "        squared = False\n",
    "       )\n",
    "print(\"\")\n",
    "print(f\"El error (RMSE) de test es: {rmse}\")"
   ]
  },
  {
   "cell_type": "code",
   "execution_count": 19,
   "metadata": {},
   "outputs": [
    {
     "data": {
      "image/png": "[encoded data removed]",
      "text/plain": [
       "<Figure size 720x432 with 1 Axes>"
      ]
     },
     "metadata": {
      "needs_background": "light"
     },
     "output_type": "display_data"
    }
   ],
   "source": [
    "# Valores de entrenamiento vs valores estimados\n",
    "\n",
    "modelo_estimado = np.array(modelo_estimado)\n",
    "plt.figure(figsize=(10,6))\n",
    "plt.plot(modelo_estimado)\n",
    "plt.plot(y_entrenamiento)\n",
    "plt.legend([\"Datos estimado\", \"Datos de entrenamiento\"])\n",
    "plt.show()"
   ]
  },
  {
   "cell_type": "markdown",
   "metadata": {},
   "source": [
    "**2. Statsmodels**"
   ]
  },
  {
   "cell_type": "code",
   "execution_count": 20,
   "metadata": {},
   "outputs": [
    {
     "name": "stdout",
     "output_type": "stream",
     "text": [
      "                            OLS Regression Results                            \n",
      "==============================================================================\n",
      "Dep. Variable:        salario_inicial   R-squared:                       0.753\n",
      "Model:                            OLS   Adj. R-squared:                  0.728\n",
      "Method:                 Least Squares   F-statistic:                     30.47\n",
      "Date:                Sun, 12 Dec 2021   Prob (F-statistic):           0.000255\n",
      "Time:                        10:57:52   Log-Likelihood:                -19.984\n",
      "No. Observations:                  12   AIC:                             43.97\n",
      "Df Residuals:                      10   BIC:                             44.94\n",
      "Df Model:                           1                                         \n",
      "Covariance Type:            nonrobust                                         \n",
      "=========================================================================================\n",
      "                            coef    std err          t      P>|t|      [0.025      0.975]\n",
      "-----------------------------------------------------------------------------------------\n",
      "Intercept                -7.2113      4.614     -1.563      0.149     -17.491       3.069\n",
      "calificacion_promedio     8.3179      1.507      5.520      0.000       4.960      11.675\n",
      "==============================================================================\n",
      "Omnibus:                        0.067   Durbin-Watson:                   2.343\n",
      "Prob(Omnibus):                  0.967   Jarque-Bera (JB):                0.095\n",
      "Skew:                           0.027   Prob(JB):                        0.954\n",
      "Kurtosis:                       2.568   Cond. No.                         38.6\n",
      "==============================================================================\n",
      "\n",
      "Notes:\n",
      "[1] Standard Errors assume that the covariance matrix of the errors is correctly specified.\n"
     ]
    }
   ],
   "source": [
    "# Creación del modelo utilizando el modo fórmula (Similar a R)\n",
    "\n",
    "datos_entrenamiento = pd.DataFrame(np.hstack((X_entrenamiento, y_entrenamiento)), columns=['calificacion_promedio', 'salario_inicial'])\n",
    "modelo_statsmodels_1 = smf.ols(formula = 'salario_inicial~calificacion_promedio', data = datos_entrenamiento)\n",
    "modelo_statsmodels_1 = modelo_statsmodels_1.fit()\n",
    "print(modelo_statsmodels_1.summary())"
   ]
  },
  {
   "cell_type": "code",
   "execution_count": 21,
   "metadata": {},
   "outputs": [
    {
     "name": "stdout",
     "output_type": "stream",
     "text": [
      "                            OLS Regression Results                            \n",
      "==============================================================================\n",
      "Dep. Variable:                      y   R-squared:                       0.753\n",
      "Model:                            OLS   Adj. R-squared:                  0.728\n",
      "Method:                 Least Squares   F-statistic:                     30.47\n",
      "Date:                Sun, 12 Dec 2021   Prob (F-statistic):           0.000255\n",
      "Time:                        10:57:52   Log-Likelihood:                -19.984\n",
      "No. Observations:                  12   AIC:                             43.97\n",
      "Df Residuals:                      10   BIC:                             44.94\n",
      "Df Model:                           1                                         \n",
      "Covariance Type:            nonrobust                                         \n",
      "==============================================================================\n",
      "                 coef    std err          t      P>|t|      [0.025      0.975]\n",
      "------------------------------------------------------------------------------\n",
      "const         -7.2113      4.614     -1.563      0.149     -17.491       3.069\n",
      "x1             8.3179      1.507      5.520      0.000       4.960      11.675\n",
      "==============================================================================\n",
      "Omnibus:                        0.067   Durbin-Watson:                   2.343\n",
      "Prob(Omnibus):                  0.967   Jarque-Bera (JB):                0.095\n",
      "Skew:                           0.027   Prob(JB):                        0.954\n",
      "Kurtosis:                       2.568   Cond. No.                         38.6\n",
      "==============================================================================\n",
      "\n",
      "Notes:\n",
      "[1] Standard Errors assume that the covariance matrix of the errors is correctly specified.\n"
     ]
    }
   ],
   "source": [
    "# Creación del modelo utilizando matrices como en scikitlearn\n",
    "\n",
    "# A la matriz de predictores se le tiene que añadir una columna de 1s para el intercept del modelo\n",
    "X_entrenamiento2 = sm.add_constant(X_entrenamiento, prepend=True)\n",
    "modelo_statsmodels_2 = sm.OLS(endog=y_entrenamiento, exog=X_entrenamiento2)\n",
    "modelo_statsmodels_2 = modelo_statsmodels_2.fit()\n",
    "print(modelo_statsmodels_2.summary())"
   ]
  },
  {
   "cell_type": "markdown",
   "metadata": {},
   "source": [
    "*--Intervalos de confianza de los coeficientes*"
   ]
  },
  {
   "cell_type": "code",
   "execution_count": 22,
   "metadata": {},
   "outputs": [
    {
     "data": {
      "text/html": [
       "<div>\n",
       "<style scoped>\n",
       "    .dataframe tbody tr th:only-of-type {\n",
       "        vertical-align: middle;\n",
       "    }\n",
       "\n",
       "    .dataframe tbody tr th {\n",
       "        vertical-align: top;\n",
       "    }\n",
       "\n",
       "    .dataframe thead th {\n",
       "        text-align: right;\n",
       "    }\n",
       "</style>\n",
       "<table border=\"1\" class=\"dataframe\">\n",
       "  <thead>\n",
       "    <tr style=\"text-align: right;\">\n",
       "      <th></th>\n",
       "      <th>0.025</th>\n",
       "      <th>0.975</th>\n",
       "    </tr>\n",
       "  </thead>\n",
       "  <tbody>\n",
       "    <tr>\n",
       "      <th>beta0</th>\n",
       "      <td>-17.491486</td>\n",
       "      <td>3.068847</td>\n",
       "    </tr>\n",
       "    <tr>\n",
       "      <th>beta1</th>\n",
       "      <td>4.960356</td>\n",
       "      <td>11.675482</td>\n",
       "    </tr>\n",
       "  </tbody>\n",
       "</table>\n",
       "</div>"
      ],
      "text/plain": [
       "           0.025      0.975\n",
       "beta0 -17.491486   3.068847\n",
       "beta1   4.960356  11.675482"
      ]
     },
     "execution_count": 22,
     "metadata": {},
     "output_type": "execute_result"
    }
   ],
   "source": [
    "# Intervalos de confianza para los coeficientes del modelo\n",
    "\n",
    "df_intervalos_confianza = pd.DataFrame(modelo_statsmodels_2.conf_int(alpha=0.05), index=[0, 1], \n",
    "                columns=['0.025', '0.975'])\n",
    "df_intervalos_confianza.index = ['beta0', 'beta1']\n",
    "df_intervalos_confianza"
   ]
  },
  {
   "cell_type": "markdown",
   "metadata": {},
   "source": [
    "*--Predicciones*"
   ]
  },
  {
   "cell_type": "code",
   "execution_count": 23,
   "metadata": {},
   "outputs": [
    {
     "data": {
      "text/html": [
       "<div>\n",
       "<style scoped>\n",
       "    .dataframe tbody tr th:only-of-type {\n",
       "        vertical-align: middle;\n",
       "    }\n",
       "\n",
       "    .dataframe tbody tr th {\n",
       "        vertical-align: top;\n",
       "    }\n",
       "\n",
       "    .dataframe thead th {\n",
       "        text-align: right;\n",
       "    }\n",
       "</style>\n",
       "<table border=\"1\" class=\"dataframe\">\n",
       "  <thead>\n",
       "    <tr style=\"text-align: right;\">\n",
       "      <th></th>\n",
       "      <th>mean</th>\n",
       "      <th>mean_se</th>\n",
       "      <th>mean_ci_lower</th>\n",
       "      <th>mean_ci_upper</th>\n",
       "      <th>obs_ci_lower</th>\n",
       "      <th>obs_ci_upper</th>\n",
       "    </tr>\n",
       "  </thead>\n",
       "  <tbody>\n",
       "    <tr>\n",
       "      <th>0</th>\n",
       "      <td>18.990125</td>\n",
       "      <td>0.431727</td>\n",
       "      <td>18.028177</td>\n",
       "      <td>19.952073</td>\n",
       "      <td>15.722605</td>\n",
       "      <td>22.257645</td>\n",
       "    </tr>\n",
       "    <tr>\n",
       "      <th>1</th>\n",
       "      <td>15.662958</td>\n",
       "      <td>0.606668</td>\n",
       "      <td>14.311217</td>\n",
       "      <td>17.014698</td>\n",
       "      <td>12.260231</td>\n",
       "      <td>19.065684</td>\n",
       "    </tr>\n",
       "    <tr>\n",
       "      <th>2</th>\n",
       "      <td>21.069605</td>\n",
       "      <td>0.664714</td>\n",
       "      <td>19.588530</td>\n",
       "      <td>22.550680</td>\n",
       "      <td>17.613462</td>\n",
       "      <td>24.525748</td>\n",
       "    </tr>\n",
       "    <tr>\n",
       "      <th>3</th>\n",
       "      <td>15.662958</td>\n",
       "      <td>0.606668</td>\n",
       "      <td>14.311217</td>\n",
       "      <td>17.014698</td>\n",
       "      <td>12.260231</td>\n",
       "      <td>19.065684</td>\n",
       "    </tr>\n",
       "    <tr>\n",
       "      <th>4</th>\n",
       "      <td>16.494750</td>\n",
       "      <td>0.504490</td>\n",
       "      <td>15.370676</td>\n",
       "      <td>17.618823</td>\n",
       "      <td>13.175882</td>\n",
       "      <td>19.813617</td>\n",
       "    </tr>\n",
       "    <tr>\n",
       "      <th>5</th>\n",
       "      <td>19.406021</td>\n",
       "      <td>0.463435</td>\n",
       "      <td>18.373423</td>\n",
       "      <td>20.438620</td>\n",
       "      <td>16.117009</td>\n",
       "      <td>22.695034</td>\n",
       "    </tr>\n",
       "    <tr>\n",
       "      <th>6</th>\n",
       "      <td>15.247062</td>\n",
       "      <td>0.664714</td>\n",
       "      <td>13.765987</td>\n",
       "      <td>16.728136</td>\n",
       "      <td>11.790918</td>\n",
       "      <td>18.703205</td>\n",
       "    </tr>\n",
       "    <tr>\n",
       "      <th>7</th>\n",
       "      <td>18.158333</td>\n",
       "      <td>0.404575</td>\n",
       "      <td>17.256883</td>\n",
       "      <td>19.059783</td>\n",
       "      <td>14.908109</td>\n",
       "      <td>21.408557</td>\n",
       "    </tr>\n",
       "    <tr>\n",
       "      <th>8</th>\n",
       "      <td>19.406021</td>\n",
       "      <td>0.463435</td>\n",
       "      <td>18.373423</td>\n",
       "      <td>20.438620</td>\n",
       "      <td>16.117009</td>\n",
       "      <td>22.695034</td>\n",
       "    </tr>\n",
       "    <tr>\n",
       "      <th>9</th>\n",
       "      <td>16.494750</td>\n",
       "      <td>0.504490</td>\n",
       "      <td>15.370676</td>\n",
       "      <td>17.618823</td>\n",
       "      <td>13.175882</td>\n",
       "      <td>19.813617</td>\n",
       "    </tr>\n",
       "    <tr>\n",
       "      <th>10</th>\n",
       "      <td>18.574229</td>\n",
       "      <td>0.411531</td>\n",
       "      <td>17.657281</td>\n",
       "      <td>19.491178</td>\n",
       "      <td>15.319673</td>\n",
       "      <td>21.828786</td>\n",
       "    </tr>\n",
       "    <tr>\n",
       "      <th>11</th>\n",
       "      <td>22.733189</td>\n",
       "      <td>0.922266</td>\n",
       "      <td>20.678252</td>\n",
       "      <td>24.788125</td>\n",
       "      <td>18.994993</td>\n",
       "      <td>26.471384</td>\n",
       "    </tr>\n",
       "  </tbody>\n",
       "</table>\n",
       "</div>"
      ],
      "text/plain": [
       "         mean   mean_se  mean_ci_lower  mean_ci_upper  obs_ci_lower  \\\n",
       "0   18.990125  0.431727      18.028177      19.952073     15.722605   \n",
       "1   15.662958  0.606668      14.311217      17.014698     12.260231   \n",
       "2   21.069605  0.664714      19.588530      22.550680     17.613462   \n",
       "3   15.662958  0.606668      14.311217      17.014698     12.260231   \n",
       "4   16.494750  0.504490      15.370676      17.618823     13.175882   \n",
       "5   19.406021  0.463435      18.373423      20.438620     16.117009   \n",
       "6   15.247062  0.664714      13.765987      16.728136     11.790918   \n",
       "7   18.158333  0.404575      17.256883      19.059783     14.908109   \n",
       "8   19.406021  0.463435      18.373423      20.438620     16.117009   \n",
       "9   16.494750  0.504490      15.370676      17.618823     13.175882   \n",
       "10  18.574229  0.411531      17.657281      19.491178     15.319673   \n",
       "11  22.733189  0.922266      20.678252      24.788125     18.994993   \n",
       "\n",
       "    obs_ci_upper  \n",
       "0      22.257645  \n",
       "1      19.065684  \n",
       "2      24.525748  \n",
       "3      19.065684  \n",
       "4      19.813617  \n",
       "5      22.695034  \n",
       "6      18.703205  \n",
       "7      21.408557  \n",
       "8      22.695034  \n",
       "9      19.813617  \n",
       "10     21.828786  \n",
       "11     26.471384  "
      ]
     },
     "execution_count": 23,
     "metadata": {},
     "output_type": "execute_result"
    }
   ],
   "source": [
    "# Predicciones con intervalo de confianza del 95%\n",
    "\n",
    "predicciones1 = modelo_statsmodels_2.get_prediction(exog = X_entrenamiento2).summary_frame(alpha=0.05)\n",
    "predicciones1"
   ]
  },
  {
   "cell_type": "code",
   "execution_count": 24,
   "metadata": {},
   "outputs": [
    {
     "data": {
      "text/html": [
       "<div>\n",
       "<style scoped>\n",
       "    .dataframe tbody tr th:only-of-type {\n",
       "        vertical-align: middle;\n",
       "    }\n",
       "\n",
       "    .dataframe tbody tr th {\n",
       "        vertical-align: top;\n",
       "    }\n",
       "\n",
       "    .dataframe thead th {\n",
       "        text-align: right;\n",
       "    }\n",
       "</style>\n",
       "<table border=\"1\" class=\"dataframe\">\n",
       "  <thead>\n",
       "    <tr style=\"text-align: right;\">\n",
       "      <th></th>\n",
       "      <th>mean</th>\n",
       "    </tr>\n",
       "  </thead>\n",
       "  <tbody>\n",
       "    <tr>\n",
       "      <th>0</th>\n",
       "      <td>18.990125</td>\n",
       "    </tr>\n",
       "    <tr>\n",
       "      <th>1</th>\n",
       "      <td>15.662958</td>\n",
       "    </tr>\n",
       "    <tr>\n",
       "      <th>2</th>\n",
       "      <td>21.069605</td>\n",
       "    </tr>\n",
       "    <tr>\n",
       "      <th>3</th>\n",
       "      <td>15.662958</td>\n",
       "    </tr>\n",
       "    <tr>\n",
       "      <th>4</th>\n",
       "      <td>16.494750</td>\n",
       "    </tr>\n",
       "    <tr>\n",
       "      <th>5</th>\n",
       "      <td>19.406021</td>\n",
       "    </tr>\n",
       "    <tr>\n",
       "      <th>6</th>\n",
       "      <td>15.247062</td>\n",
       "    </tr>\n",
       "    <tr>\n",
       "      <th>7</th>\n",
       "      <td>18.158333</td>\n",
       "    </tr>\n",
       "    <tr>\n",
       "      <th>8</th>\n",
       "      <td>19.406021</td>\n",
       "    </tr>\n",
       "    <tr>\n",
       "      <th>9</th>\n",
       "      <td>16.494750</td>\n",
       "    </tr>\n",
       "    <tr>\n",
       "      <th>10</th>\n",
       "      <td>18.574229</td>\n",
       "    </tr>\n",
       "    <tr>\n",
       "      <th>11</th>\n",
       "      <td>22.733189</td>\n",
       "    </tr>\n",
       "  </tbody>\n",
       "</table>\n",
       "</div>"
      ],
      "text/plain": [
       "         mean\n",
       "0   18.990125\n",
       "1   15.662958\n",
       "2   21.069605\n",
       "3   15.662958\n",
       "4   16.494750\n",
       "5   19.406021\n",
       "6   15.247062\n",
       "7   18.158333\n",
       "8   19.406021\n",
       "9   16.494750\n",
       "10  18.574229\n",
       "11  22.733189"
      ]
     },
     "execution_count": 24,
     "metadata": {},
     "output_type": "execute_result"
    }
   ],
   "source": [
    "# Predicciones puntuales\n",
    "\n",
    "predicciones_puntuales = pd.DataFrame(modelo_statsmodels_2.predict(X_entrenamiento2))\n",
    "predicciones_puntuales.columns = ['mean']\n",
    "predicciones_puntuales"
   ]
  },
  {
   "cell_type": "markdown",
   "metadata": {},
   "source": [
    "*--Representación gráfica del modelo*"
   ]
  },
  {
   "cell_type": "code",
   "execution_count": 25,
   "metadata": {},
   "outputs": [
    {
     "data": {
      "image/png": "[encoded data removed]",
      "text/plain": [
       "<Figure size 432x276.48 with 1 Axes>"
      ]
     },
     "metadata": {
      "needs_background": "light"
     },
     "output_type": "display_data"
    }
   ],
   "source": [
    "# Predicciones con intervalo de confianza del 95%\n",
    "\n",
    "predicciones1['x'] = X_entrenamiento2[:, 1]\n",
    "predicciones1['y'] = y_entrenamiento\n",
    "predicciones1 = predicciones1.sort_values('x')\n",
    "\n",
    "# Gráfico del modelo\n",
    "# ==============================================================================\n",
    "fig, ax = plt.subplots(figsize=(6, 3.84))\n",
    "\n",
    "ax.scatter(predicciones1['x'], predicciones1['y'], marker='o', color = \"gray\")\n",
    "ax.plot(predicciones1['x'], predicciones1[\"mean\"], linestyle='-', label=\"OLS\")\n",
    "ax.plot(predicciones1['x'], predicciones1[\"mean_ci_lower\"], linestyle='--', color='red', label=\"95% CI\")\n",
    "ax.plot(predicciones1['x'], predicciones1[\"mean_ci_upper\"], linestyle='--', color='red')\n",
    "ax.fill_between(predicciones1['x'], predicciones1[\"mean_ci_lower\"], predicciones1[\"mean_ci_upper\"], alpha=0.1)\n",
    "ax.legend();"
   ]
  },
  {
   "cell_type": "markdown",
   "metadata": {},
   "source": [
    "*--Error de test*"
   ]
  },
  {
   "cell_type": "code",
   "execution_count": 26,
   "metadata": {},
   "outputs": [
    {
     "name": "stdout",
     "output_type": "stream",
     "text": [
      "\n",
      "El error (rmse) de test es: 1.045868680613534\n"
     ]
    }
   ],
   "source": [
    "# Error de test del modelo \n",
    "\n",
    "X_prueba = sm.add_constant(X_prueba, prepend=True)\n",
    "predicciones_prueba = modelo_statsmodels_2.predict(exog = X_prueba)\n",
    "rmse = mean_squared_error(\n",
    "        y_true  = y_prueba,\n",
    "        y_pred  = predicciones_prueba,\n",
    "        squared = False\n",
    "       )\n",
    "print(\"\")\n",
    "print(f\"El error (rmse) de test es: {rmse}\")"
   ]
  }
 ],
 "metadata": {
  "kernelspec": {
   "display_name": "Python 3 (ipykernel)",
   "language": "python",
   "name": "python3"
  },
  "language_info": {
   "codemirror_mode": {
    "name": "ipython",
    "version": 3
   },
   "file_extension": ".py",
   "mimetype": "text/x-python",
   "name": "python",
   "nbconvert_exporter": "python",
   "pygments_lexer": "ipython3",
   "version": "3.8.8"
  }
 },
 "nbformat": 4,
 "nbformat_minor": 2
}
