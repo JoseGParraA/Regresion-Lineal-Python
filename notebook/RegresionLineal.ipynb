{
 "cells": [
  {
   "cell_type": "markdown",
   "metadata": {},
   "source": [
    "# Ejercicio Canavos Página 448\n",
    "\n",
    "El objetivo del ejercicio es ajustar un modelo de regresión lineal que nos permita estimar el Salario Inicial de los estudiantes universitarios como una función de la calificación promedio."
   ]
  },
  {
   "cell_type": "code",
   "execution_count": 1,
   "metadata": {},
   "outputs": [],
   "source": [
    "# Tratamiento de datos\n",
    "\n",
    "import pandas as pd\n",
    "import numpy as np\n",
    "\n",
    "# Gráficos\n",
    "\n",
    "import matplotlib.pyplot as plt\n",
    "import seaborn as sns\n",
    "\n",
    "# Preprocesado y modelado\n",
    "\n",
    "from scipy.stats import pearsonr\n",
    "import statsmodels.api as sm\n",
    "from scipy import stats\n",
    "\n",
    "# Configuración warnings\n",
    "\n",
    "import warnings\n",
    "warnings.filterwarnings('ignore')"
   ]
  },
  {
   "cell_type": "code",
   "execution_count": 2,
   "metadata": {},
   "outputs": [
    {
     "data": {
      "text/html": [
       "<div>\n",
       "<style scoped>\n",
       "    .dataframe tbody tr th:only-of-type {\n",
       "        vertical-align: middle;\n",
       "    }\n",
       "\n",
       "    .dataframe tbody tr th {\n",
       "        vertical-align: top;\n",
       "    }\n",
       "\n",
       "    .dataframe thead th {\n",
       "        text-align: right;\n",
       "    }\n",
       "</style>\n",
       "<table border=\"1\" class=\"dataframe\">\n",
       "  <thead>\n",
       "    <tr style=\"text-align: right;\">\n",
       "      <th></th>\n",
       "      <th>CALIFICACIÓN PROMEDIO</th>\n",
       "      <th>SALARIO INICIAL</th>\n",
       "    </tr>\n",
       "  </thead>\n",
       "  <tbody>\n",
       "    <tr>\n",
       "      <th>0</th>\n",
       "      <td>2.95</td>\n",
       "      <td>18.5</td>\n",
       "    </tr>\n",
       "    <tr>\n",
       "      <th>1</th>\n",
       "      <td>3.20</td>\n",
       "      <td>20.0</td>\n",
       "    </tr>\n",
       "    <tr>\n",
       "      <th>2</th>\n",
       "      <td>3.40</td>\n",
       "      <td>21.1</td>\n",
       "    </tr>\n",
       "    <tr>\n",
       "      <th>3</th>\n",
       "      <td>3.60</td>\n",
       "      <td>22.4</td>\n",
       "    </tr>\n",
       "    <tr>\n",
       "      <th>4</th>\n",
       "      <td>3.20</td>\n",
       "      <td>21.2</td>\n",
       "    </tr>\n",
       "  </tbody>\n",
       "</table>\n",
       "</div>"
      ],
      "text/plain": [
       "   CALIFICACIÓN PROMEDIO  SALARIO INICIAL\n",
       "0                   2.95             18.5\n",
       "1                   3.20             20.0\n",
       "2                   3.40             21.1\n",
       "3                   3.60             22.4\n",
       "4                   3.20             21.2"
      ]
     },
     "execution_count": 2,
     "metadata": {},
     "output_type": "execute_result"
    }
   ],
   "source": [
    "# Importar los datos\n",
    "\n",
    "data = pd.read_csv('./../dataset/ejemplo.csv')\n",
    "data.head(5)"
   ]
  },
  {
   "cell_type": "code",
   "execution_count": 3,
   "metadata": {},
   "outputs": [
    {
     "data": {
      "image/png": "[encoded data removed]",
      "text/plain": [
       "<Figure size 360x360 with 1 Axes>"
      ]
     },
     "metadata": {
      "needs_background": "light"
     },
     "output_type": "display_data"
    }
   ],
   "source": [
    "# Gráfico de dispersión\n",
    "\n",
    "x = data['SALARIO INICIAL']\n",
    "Y = data['CALIFICACIÓN PROMEDIO']\n",
    "plt.figure(figsize=(5,5))\n",
    "plt.scatter(x, Y, marker='o', label='data')\n",
    "plt.xlabel('CALIFICACIÓN PROMEDIO')\n",
    "plt.ylabel('SALARIO INICIAL')\n",
    "plt.title('CALIFICACIÓN PROMEDIO vs SALARIO INICIAL')\n",
    "plt.legend(loc='lower right')\n",
    "plt.show()\n"
   ]
  },
  {
   "cell_type": "code",
   "execution_count": 4,
   "metadata": {},
   "outputs": [
    {
     "name": "stdout",
     "output_type": "stream",
     "text": [
      "Coeficiente de Correlación de Pearson: 0.8476342100087885\n",
      "P-value: 6.59819025231516e-05\n"
     ]
    }
   ],
   "source": [
    "# Correlación lineal entre las dos variables\n",
    "\n",
    "prueba_correlacion = pearsonr(x, Y)\n",
    "print('Coeficiente de Correlación de Pearson: ' + str(prueba_correlacion[0]))\n",
    "print('P-value: ' + str(prueba_correlacion[1]))"
   ]
  },
  {
   "cell_type": "markdown",
   "metadata": {},
   "source": [
    "Debido al gráfico de dispersión (aunque muestra cierta dispersión), al valor del coeficiente de Pearson (r=0.85) y a la prueba de correlación significativa (P-value=0.00006598), se muestra una asociación lineal entre la calificación promedio (x) y el salario inicial (Y); por lo que se ajustará un modelo de regresión lineal simple con el objetivo de predecir el salario inicial de un estudiante en función de su calificación promedio."
   ]
  },
  {
   "cell_type": "markdown",
   "metadata": {},
   "source": [
    "**ANÁLISIS EXPLORATORIO DE LOS DATOS**"
   ]
  },
  {
   "cell_type": "code",
   "execution_count": 5,
   "metadata": {},
   "outputs": [
    {
     "data": {
      "text/plain": [
       "Index(['CALIFICACIÓN PROMEDIO', 'SALARIO INICIAL'], dtype='object')"
      ]
     },
     "execution_count": 5,
     "metadata": {},
     "output_type": "execute_result"
    }
   ],
   "source": [
    "# Nombre de las columnas\n",
    "\n",
    "data.columns"
   ]
  },
  {
   "cell_type": "code",
   "execution_count": 6,
   "metadata": {},
   "outputs": [
    {
     "data": {
      "text/plain": [
       "(15, 2)"
      ]
     },
     "execution_count": 6,
     "metadata": {},
     "output_type": "execute_result"
    }
   ],
   "source": [
    "# Dimensión de los datos\n",
    "\n",
    "data.shape"
   ]
  },
  {
   "cell_type": "code",
   "execution_count": 7,
   "metadata": {},
   "outputs": [
    {
     "name": "stdout",
     "output_type": "stream",
     "text": [
      "<class 'pandas.core.frame.DataFrame'>\n",
      "RangeIndex: 15 entries, 0 to 14\n",
      "Data columns (total 2 columns):\n",
      " #   Column                 Non-Null Count  Dtype  \n",
      "---  ------                 --------------  -----  \n",
      " 0   CALIFICACIÓN PROMEDIO  15 non-null     float64\n",
      " 1   SALARIO INICIAL        15 non-null     float64\n",
      "dtypes: float64(2)\n",
      "memory usage: 368.0 bytes\n"
     ]
    }
   ],
   "source": [
    "data.info()"
   ]
  },
  {
   "cell_type": "code",
   "execution_count": 8,
   "metadata": {},
   "outputs": [
    {
     "data": {
      "text/html": [
       "<div>\n",
       "<style scoped>\n",
       "    .dataframe tbody tr th:only-of-type {\n",
       "        vertical-align: middle;\n",
       "    }\n",
       "\n",
       "    .dataframe tbody tr th {\n",
       "        vertical-align: top;\n",
       "    }\n",
       "\n",
       "    .dataframe thead th {\n",
       "        text-align: right;\n",
       "    }\n",
       "</style>\n",
       "<table border=\"1\" class=\"dataframe\">\n",
       "  <thead>\n",
       "    <tr style=\"text-align: right;\">\n",
       "      <th></th>\n",
       "      <th>CALIFICACIÓN PROMEDIO</th>\n",
       "      <th>SALARIO INICIAL</th>\n",
       "    </tr>\n",
       "  </thead>\n",
       "  <tbody>\n",
       "    <tr>\n",
       "      <th>count</th>\n",
       "      <td>15.000000</td>\n",
       "      <td>15.000000</td>\n",
       "    </tr>\n",
       "    <tr>\n",
       "      <th>mean</th>\n",
       "      <td>3.040000</td>\n",
       "      <td>18.053333</td>\n",
       "    </tr>\n",
       "    <tr>\n",
       "      <th>std</th>\n",
       "      <td>0.251567</td>\n",
       "      <td>2.409465</td>\n",
       "    </tr>\n",
       "    <tr>\n",
       "      <th>min</th>\n",
       "      <td>2.700000</td>\n",
       "      <td>14.400000</td>\n",
       "    </tr>\n",
       "    <tr>\n",
       "      <th>25%</th>\n",
       "      <td>2.850000</td>\n",
       "      <td>16.250000</td>\n",
       "    </tr>\n",
       "    <tr>\n",
       "      <th>50%</th>\n",
       "      <td>3.050000</td>\n",
       "      <td>18.000000</td>\n",
       "    </tr>\n",
       "    <tr>\n",
       "      <th>75%</th>\n",
       "      <td>3.175000</td>\n",
       "      <td>19.500000</td>\n",
       "    </tr>\n",
       "    <tr>\n",
       "      <th>max</th>\n",
       "      <td>3.600000</td>\n",
       "      <td>22.400000</td>\n",
       "    </tr>\n",
       "  </tbody>\n",
       "</table>\n",
       "</div>"
      ],
      "text/plain": [
       "       CALIFICACIÓN PROMEDIO  SALARIO INICIAL\n",
       "count              15.000000        15.000000\n",
       "mean                3.040000        18.053333\n",
       "std                 0.251567         2.409465\n",
       "min                 2.700000        14.400000\n",
       "25%                 2.850000        16.250000\n",
       "50%                 3.050000        18.000000\n",
       "75%                 3.175000        19.500000\n",
       "max                 3.600000        22.400000"
      ]
     },
     "execution_count": 8,
     "metadata": {},
     "output_type": "execute_result"
    }
   ],
   "source": [
    "# Estadísticos descriptivos\n",
    "\n",
    "data.describe()"
   ]
  },
  {
   "cell_type": "markdown",
   "metadata": {},
   "source": [
    "# Estudio de la distribución de la variable respuesta Y: Salario Inicial\n",
    "\n",
    "**1. Gráfico**"
   ]
  },
  {
   "cell_type": "code",
   "execution_count": 9,
   "metadata": {},
   "outputs": [
    {
     "data": {
      "image/png": "[encoded data removed]",
      "text/plain": [
       "<Figure size 1152x432 with 2 Axes>"
      ]
     },
     "metadata": {
      "needs_background": "light"
     },
     "output_type": "display_data"
    }
   ],
   "source": [
    "fig, axes = plt.subplots(nrows=1, ncols=2, figsize=(16,6))\n",
    "Y =  data['SALARIO INICIAL']\n",
    "sns.distplot(\n",
    "    Y,\n",
    "    hist    = False,\n",
    "    kde = True,\n",
    "    color   = \"blue\",\n",
    "    ax = axes[0]\n",
    ")\n",
    "axes[0].set_title(\"Distribución Original (Y)\", fontweight = \"bold\")\n",
    "axes[0].set_xlabel('Salario Inicial', fontsize='small')\n",
    "axes[0].set_ylabel('Densidad de probabilidad', fontsize='small')\n",
    "axes[0].tick_params(labelsize = 7)\n",
    "\n",
    "\n",
    "# Gráfico Q-Q\n",
    "\n",
    "sm.qqplot(\n",
    "    Y,\n",
    "    fit   = True,\n",
    "    line  = 'q',\n",
    "    alpha = 0.4,\n",
    "    lw    = 2,\n",
    "    ax    = axes[1]\n",
    ")\n",
    "axes[1].set_title('Gráfico Q-Q del Salario Inicial', fontsize = 10,\n",
    "             fontweight = \"bold\")\n",
    "axes[1].set_xlabel('Salario Inicial', fontsize='small')\n",
    "axes[1].tick_params(labelsize = 7)"
   ]
  },
  {
   "cell_type": "markdown",
   "metadata": {},
   "source": [
    "**2. Métodos analíticos asimetría y curtosis**"
   ]
  },
  {
   "cell_type": "code",
   "execution_count": 10,
   "metadata": {},
   "outputs": [
    {
     "name": "stdout",
     "output_type": "stream",
     "text": [
      "Coeficiente de Curtosis: -0.9599587595583778\n",
      "Coeficiente de Asimetría: 0.21233887921489958\n"
     ]
    }
   ],
   "source": [
    "print('Coeficiente de Curtosis:', stats.kurtosis(Y))\n",
    "print('Coeficiente de Asimetría:', stats.skew(Y))"
   ]
  },
  {
   "cell_type": "markdown",
   "metadata": {},
   "source": [
    "**3. Contraste de hipótesis**\n",
    "\n",
    "\n",
    "$H_0 =$ La distribución de los datos se ajusta a una distribución normal y $H_1 =$ La distribución de los datos NO se ajusta a una distribución normal.\n",
    "\n",
    "Si el nivel de significancia es $\\alpha=0.05$ ..."
   ]
  },
  {
   "cell_type": "code",
   "execution_count": 11,
   "metadata": {},
   "outputs": [
    {
     "data": {
      "text/plain": [
       "ShapiroResult(statistic=0.9678089022636414, pvalue=0.824384868144989)"
      ]
     },
     "execution_count": 11,
     "metadata": {},
     "output_type": "execute_result"
    }
   ],
   "source": [
    "# Test Shapiro-Wilk\n",
    "\n",
    "shapiro_test = stats.shapiro(Y)\n",
    "shapiro_test"
   ]
  },
  {
   "cell_type": "code",
   "execution_count": 12,
   "metadata": {},
   "outputs": [
    {
     "name": "stdout",
     "output_type": "stream",
     "text": [
      "Estadístico = 0.7799178015701234, p-value = 0.6770847015760069\n"
     ]
    }
   ],
   "source": [
    "# Test D'Agostino's K-squared\n",
    "\n",
    "k2, p_value = stats.normaltest(Y)\n",
    "print(f\"Estadístico = {k2}, p-value = {p_value}\")"
   ]
  },
  {
   "cell_type": "markdown",
   "metadata": {},
   "source": [
    "En ambos test el p-value > $\\alpha$... indicando que no existe evidencia suficiente para rechazar la hipótesis nula $H_0$. El p-value no es significativo.\n",
    "\n",
    "La evidencia muestral no es suficiente para rechazar la hipótesis de que la variable de respuesta (Salario Inicial) se ajusta a una distribución normal.\n",
    "\n",
    "No poder rechazar la hipótesis nula trae consigo que los estimadores de mínimos cuadrados de $\\beta_0$ y $\\beta_1$ (iguales a los estimadores de Máxima Verosimilitud-suponiendo normalidad de los errores aleatorios) tengan las propiedades deseables de consistencia, suficiencia y de varianza mínima; además que nos permiten desarrollar criterios inferenciales para $\\beta_0$ y $\\beta_1$."
   ]
  },
  {
   "cell_type": "markdown",
   "metadata": {},
   "source": [
    "# AJUSTE DEL MODELO DE REGRESIÓN LINEAL SIMPLE"
   ]
  },
  {
   "cell_type": "markdown",
   "metadata": {},
   "source": [
    "**1. Sklearn**"
   ]
  },
  {
   "cell_type": "code",
   "execution_count": 13,
   "metadata": {},
   "outputs": [],
   "source": [
    "# División de los datos en train y test\n"
   ]
  },
  {
   "cell_type": "code",
   "execution_count": null,
   "metadata": {},
   "outputs": [],
   "source": []
  }
 ],
 "metadata": {
  "kernelspec": {
   "display_name": "Python 3 (ipykernel)",
   "language": "python",
   "name": "python3"
  },
  "language_info": {
   "codemirror_mode": {
    "name": "ipython",
    "version": 3
   },
   "file_extension": ".py",
   "mimetype": "text/x-python",
   "name": "python",
   "nbconvert_exporter": "python",
   "pygments_lexer": "ipython3",
   "version": "3.8.8"
  }
 },
 "nbformat": 4,
 "nbformat_minor": 2
}
