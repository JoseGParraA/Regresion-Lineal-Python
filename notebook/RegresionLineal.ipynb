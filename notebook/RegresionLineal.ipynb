{
 "cells": [
  {
   "cell_type": "code",
   "execution_count": 6,
   "metadata": {},
   "outputs": [],
   "source": [
    "# Tratamiento de datos\n",
    "# ==============================================================================\n",
    "import pandas as pd\n",
    "import numpy as np\n",
    "# Gráficos\n",
    "# ==============================================================================\n",
    "import matplotlib.pyplot as plt\n",
    "# Preprocesado y modelado\n",
    "# ==============================================================================\n",
    "from scipy.stats import pearsonr"
   ]
  },
  {
   "cell_type": "markdown",
   "metadata": {},
   "source": [
    "**Ejercicio Canavos Página 448:**\n",
    "\n",
    "El objetivo del ejercicio es estimar el Salario Inicial de los estudiantes universitarios como una función de la calificación promedio."
   ]
  },
  {
   "cell_type": "code",
   "execution_count": 2,
   "metadata": {},
   "outputs": [
    {
     "data": {
      "text/html": "<div>\n<style scoped>\n    .dataframe tbody tr th:only-of-type {\n        vertical-align: middle;\n    }\n\n    .dataframe tbody tr th {\n        vertical-align: top;\n    }\n\n    .dataframe thead th {\n        text-align: right;\n    }\n</style>\n<table border=\"1\" class=\"dataframe\">\n  <thead>\n    <tr style=\"text-align: right;\">\n      <th></th>\n      <th>CALIFICACIÓN PROMEDIO</th>\n      <th>SALARIO INICIAL</th>\n    </tr>\n  </thead>\n  <tbody>\n    <tr>\n      <th>0</th>\n      <td>2.95</td>\n      <td>18.5</td>\n    </tr>\n    <tr>\n      <th>1</th>\n      <td>3.20</td>\n      <td>20.0</td>\n    </tr>\n    <tr>\n      <th>2</th>\n      <td>3.40</td>\n      <td>21.1</td>\n    </tr>\n    <tr>\n      <th>3</th>\n      <td>3.60</td>\n      <td>22.4</td>\n    </tr>\n    <tr>\n      <th>4</th>\n      <td>3.20</td>\n      <td>21.2</td>\n    </tr>\n  </tbody>\n</table>\n</div>",
      "text/plain": "   CALIFICACIÓN PROMEDIO  SALARIO INICIAL\n0                   2.95             18.5\n1                   3.20             20.0\n2                   3.40             21.1\n3                   3.60             22.4\n4                   3.20             21.2"
     },
     "execution_count": 2,
     "metadata": {},
     "output_type": "execute_result"
    }
   ],
   "source": [
    "# Importar los datos\n",
    "# ==============================================================================\n",
    "data = pd.read_csv('./../dataset/ejemplo.csv')\n",
    "data.head(5)"
   ]
  },
  {
   "cell_type": "code",
   "execution_count": 3,
   "metadata": {},
   "outputs": [
    {
     "data": {
      "image/png": "[encoded data removed]",
      "text/plain": "<Figure size 360x360 with 1 Axes>"
     },
     "metadata": {
      "needs_background": "light"
     },
     "output_type": "display_data"
    }
   ],
   "source": [
    "# Gráfico de dispersión\n",
    "# ==============================================================================\n",
    "x = data['SALARIO INICIAL']\n",
    "Y = data['CALIFICACIÓN PROMEDIO']\n",
    "plt.figure(figsize=(5,5))\n",
    "plt.scatter(x, Y, marker='o', label='data')\n",
    "plt.xlabel('CALIFICACIÓN PROMEDIO')\n",
    "plt.ylabel('SALARIO INICIAL')\n",
    "plt.title('CALIFICACIÓN PROMEDIO vs SALARIO INICIAL')\n",
    "plt.legend(loc='lower right')\n",
    "plt.show()\n"
   ]
  },
  {
   "cell_type": "code",
   "execution_count": 7,
   "metadata": {},
   "outputs": [
    {
     "name": "stdout",
     "output_type": "stream",
     "text": [
      "Coeficiente de Correlación de Pearson: 0.8476342100087885\n",
      "P-value: 6.59819025231516e-05\n"
     ]
    }
   ],
   "source": [
    "# Correlación lineal entre las dos variables\n",
    "# ==============================================================================\n",
    "\n",
    "prueba_correlacion = pearsonr(x, Y)\n",
    "print('Coeficiente de Correlación de Pearson: ' + str(prueba_correlacion[0]))\n",
    "print('P-value: ' + str(prueba_correlacion[1]))"
   ]
  },
  {
   "cell_type": "markdown",
   "metadata": {},
   "source": []
  }
 ],
 "metadata": {
  "kernelspec": {
   "display_name": "Python 3.8.8 64-bit ('base': conda)",
   "name": "python388jvsc74a57bd02ac04ada3a9dbccbbc2a1e2f75bff9ae1878d4699d15f5f0d764e6d889a73bde"
  },
  "language_info": {
   "codemirror_mode": {
    "name": "ipython",
    "version": 3
   },
   "file_extension": ".py",
   "mimetype": "text/x-python",
   "name": "python",
   "nbconvert_exporter": "python",
   "pygments_lexer": "ipython3",
   "version": "3.8.8"
  },
  "orig_nbformat": 2
 },
 "nbformat": 4,
 "nbformat_minor": 2
}